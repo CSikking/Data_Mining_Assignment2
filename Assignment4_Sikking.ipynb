{
 "cells": [
  {
   "cell_type": "markdown",
   "id": "be98159f",
   "metadata": {},
   "source": [
    "Ciara Sikking \n",
    "Data Mining - Mar. 19, 2024\n",
    "# Convert Images to Edge Histograms - Crop Images"
   ]
  },
  {
   "cell_type": "code",
   "execution_count": 76,
   "id": "7e54e8e1",
   "metadata": {},
   "outputs": [],
   "source": [
    "# Import necessary packages\n",
    "import skimage\n",
    "import xml.etree.ElementTree as ET\n",
    "import glob\n",
    "import os\n",
    "from PIL import Image\n",
    "from pathlib import Path\n",
    "\n",
    "# Define bounding boxes method\n",
    "def get_bounding_boxes(annot):\n",
    "    xml = annot\n",
    "    tree = ET.parse(xml)\n",
    "    root = tree.getroot()\n",
    "    objects = root.findall('object')\n",
    "    bbox = []\n",
    "    for o in objects:\n",
    "        bndbox = o.find('bndbox')\n",
    "        xmin = int(bndbox.find('xmin').text)\n",
    "        ymin = int(bndbox.find('ymin').text)\n",
    "        xmax = int(bndbox.find('xmax').text)\n",
    "        ymax = int(bndbox.find('ymax').text)\n",
    "        bbox.append((xmin,ymin,xmax,ymax))\n",
    "    return bbox\n",
    "\n",
    "# Define global variables\n",
    "dog_images = glob.glob('/Users/ciarasikking/Data_Mining_Assignment2/StanfordDogs/Images/*/*')\n",
    "breeds = glob.glob('/Users/ciarasikking/Data_Mining_Assignment2/StanfordDogs/Annotation/*')\n",
    "annotations = glob.glob('/Users/ciarasikking/Data_Mining_Assignment2/StanfordDogs/Annotation/*/*')\n",
    "\n",
    "# Define images method\n",
    "def get_image(annot):\n",
    "    img_path = '/Users/ciarasikking/Data_Mining_Assignment2/StanfordDogs/Images/'\n",
    "    file = annot.split('/')\n",
    "    img_filename = img_path + file[-2]+'/'+file[-1]+'.jpg'\n",
    "    return img_filename\n",
    "\n",
    "# Crop images and save in a new folder titled 'Cropped'\n",
    "for i in range(len(dog_images)):\n",
    "    bbox = get_bounding_boxes(annotations[i])\n",
    "    dog = get_image(annotations[i])\n",
    "    im = Image.open(dog)\n",
    "    for j in range(len(bbox)):\n",
    "        im2 = im.crop(bbox[j])\n",
    "        im2 = im2.resize((128,128), Image.ANTIALIAS)\n",
    "        new_path = dog.replace('/Users/ciarasikking/Data_Mining_Assignment2/StanfordDogs/Images/','./Cropped/')\n",
    "        new_path = new_path.replace('.jpg','-' + str(j) + '.jpg')\n",
    "        im2=im2.convert('RGB')\n",
    "        head, tail = os.path.split(new_path)\n",
    "        Path(head).mkdir(parents=True, exist_ok=True)\n",
    "        im2.save(new_path)"
   ]
  },
  {
   "cell_type": "markdown",
   "id": "c07a05ba",
   "metadata": {},
   "source": [
    "# Convert Images to Edge Histograms - Convert to Gray and Edge Histograms"
   ]
  },
  {
   "cell_type": "code",
   "execution_count": 77,
   "id": "b1378e8e",
   "metadata": {},
   "outputs": [],
   "source": [
    "import os\n",
    "import random\n",
    "import numpy as np\n",
    "import matplotlib.pyplot as plt\n",
    "from skimage import filters\n",
    "from skimage.util import compare_images\n",
    "import pandas as pd\n",
    "from sklearn.decomposition import PCA\n",
    "import matplotlib.pyplot as plt\n",
    "from sklearn.preprocessing import (StandardScaler, MaxAbsScaler, RobustScaler, \n",
    "Normalizer, QuantileTransformer, PowerTransformer, MinMaxScaler)\n",
    "from mpl_toolkits.mplot3d import Axes3D\n",
    "\n",
    "imgExtension = ['jpg'] \n",
    "allImages = list()\n",
    "\n",
    "def im2gray(img):\n",
    "    gray = np.dot(img[...,0:3],[0.299,0.587,0.114])\n",
    "    return gray \n",
    "\n",
    "directories = ['/Users/ciarasikking/Data_Mining_Assignment2/Cropped/n02086910-papillon',\n",
    "              '/Users/ciarasikking/Data_Mining_Assignment2/Cropped/n02101556-clumber',\n",
    "              '/Users/ciarasikking/Data_Mining_Assignment2/Cropped/n02113712-miniature_poodle',\n",
    "              '/Users/ciarasikking/Data_Mining_Assignment2/Cropped/n02113978-Mexican_hairless']\n",
    "\n",
    "def angle(dx, dy):\n",
    "    return np.mod(np.arctan2(dy, dx), np.pi)\n",
    "\n",
    "i = 0\n",
    "image_list = []\n",
    "gray_image_list = []\n",
    "edge_hist_list = []\n",
    "\n",
    "# Separate classes \n",
    "dir_1 = directories[0]\n",
    "dir_2 = directories[1]\n",
    "dir_3 = directories[2]\n",
    "dir_4 = directories[3]\n",
    "class_1 = os.listdir(dir_1)\n",
    "class_2 = os.listdir(dir_2)\n",
    "class_3 = os.listdir(dir_3)\n",
    "class_4 = os.listdir(dir_4)\n",
    "\n",
    "edge_hist_pap = []\n",
    "edge_hist_clum = []\n",
    "edge_hist_minp = []\n",
    "edge_hist_mexh = []\n",
    "\n",
    "# Convert each image in each class to edge histograms \n",
    "for im in class_1:\n",
    "    read_image = plt.imread(dir_1 + '/' + im)\n",
    "    gray_image = im2gray(read_image)\n",
    "    \n",
    "    angle_sobel = angle(filters.sobel_h(gray_image),filters.sobel_v(gray_image))\n",
    "    \n",
    "    hist, bins = skimage.exposure.histogram(angle_sobel, nbins=36, normalize=False)\n",
    "    edge_hist_pap.append(hist)\n",
    "    \n",
    "for im2 in class_2:\n",
    "    read_image2 = plt.imread(dir_2 + '/' + im2)\n",
    "    gray_image2 = im2gray(read_image2)\n",
    "    \n",
    "    angle_sobel2 = angle(filters.sobel_h(gray_image2),filters.sobel_v(gray_image2))\n",
    "    \n",
    "    hist2, bins2 = skimage.exposure.histogram(angle_sobel2, nbins=36, normalize=False)\n",
    "    edge_hist_clum.append(hist2)\n",
    "    \n",
    "for im3 in class_3:\n",
    "    read_image3 = plt.imread(dir_3 + '/' + im3)\n",
    "    gray_image3 = im2gray(read_image3)\n",
    "    \n",
    "    angle_sobel3 = angle(filters.sobel_h(gray_image3),filters.sobel_v(gray_image3))\n",
    "    \n",
    "    hist3, bins3 = skimage.exposure.histogram(angle_sobel3, nbins=36, normalize=False)\n",
    "    edge_hist_minp.append(hist3)\n",
    "    \n",
    "for im4 in class_4:\n",
    "    read_image4 = plt.imread(dir_4 + '/' + im4)\n",
    "    gray_image4 = im2gray(read_image4)\n",
    "    \n",
    "    angle_sobel4 = angle(filters.sobel_h(gray_image4),filters.sobel_v(gray_image4))\n",
    "    \n",
    "    hist4, bins4 = skimage.exposure.histogram(angle_sobel4, nbins=36, normalize=False)\n",
    "    edge_hist_mexh.append(hist4)"
   ]
  },
  {
   "cell_type": "markdown",
   "id": "4cd2ada3",
   "metadata": {},
   "source": [
    "# Split images into Training/Test Sets"
   ]
  },
  {
   "cell_type": "code",
   "execution_count": 78,
   "id": "d9023938",
   "metadata": {},
   "outputs": [],
   "source": [
    "import pandas as pd \n",
    "from sklearn.model_selection import train_test_split \n",
    "\n",
    "labels_pap = [\"papillon\"] * len(edge_hist_pap)\n",
    "labels_clum = [\"clumber\"] * len(edge_hist_clum)\n",
    "labels_minp = [\"miniature poodle\"] * len(edge_hist_minp)\n",
    "labels_mexh = [\"mexican hairless\"] * len(edge_hist_mexh)\n",
    "\n",
    "labels = labels_pap + labels_clum + labels_minp + labels_mexh\n",
    "\n",
    "data = edge_hist_pap + edge_hist_clum + edge_hist_minp + edge_hist_mexh\n",
    "\n",
    "data_train, data_test, labels_train, labels_test = train_test_split(data, labels, random_state=104, test_size=0.20, shuffle=True)"
   ]
  },
  {
   "cell_type": "markdown",
   "id": "b073d634",
   "metadata": {},
   "source": [
    "Standardize the training set"
   ]
  },
  {
   "cell_type": "code",
   "execution_count": 79,
   "id": "a861f639",
   "metadata": {},
   "outputs": [],
   "source": [
    "from sklearn import preprocessing\n",
    "\n",
    "scaler = preprocessing.StandardScaler().fit(data_train)\n",
    "\n",
    "data_train_mean = scaler.mean_\n",
    "\n",
    "data_train_stdev = scaler.scale_\n",
    "\n",
    "data_train_scaled = scaler.transform(data_train)\n",
    "\n",
    "data_test_scaled = (data_test - data_train_mean)/data_train_stdev"
   ]
  },
  {
   "cell_type": "markdown",
   "id": "dbdaa378",
   "metadata": {},
   "source": [
    "# Perform a standard 5-fold cross validation"
   ]
  },
  {
   "cell_type": "code",
   "execution_count": 80,
   "id": "43cfb113",
   "metadata": {},
   "outputs": [
    {
     "name": "stdout",
     "output_type": "stream",
     "text": [
      "For k = 1\n",
      "Cross Validation Scores:  [0.29464286 0.36607143 0.27678571 0.33928571 0.32142857]\n",
      "Average CV Score:  0.3196428571428572\n",
      "Number of CV Scores used in Average:  5\n",
      "Error 0.6803571428571429\n",
      "For k = 3\n",
      "Cross Validation Scores:  [0.28571429 0.30357143 0.35714286 0.35714286 0.28571429]\n",
      "Average CV Score:  0.3178571428571429\n",
      "Number of CV Scores used in Average:  5\n",
      "Error 0.6821428571428572\n",
      "For k = 5\n",
      "Cross Validation Scores:  [0.27678571 0.29464286 0.36607143 0.36607143 0.29464286]\n",
      "Average CV Score:  0.3196428571428572\n",
      "Number of CV Scores used in Average:  5\n",
      "Error 0.6803571428571429\n",
      "For k = 7\n",
      "Cross Validation Scores:  [0.28571429 0.30357143 0.375      0.34821429 0.27678571]\n",
      "Average CV Score:  0.3178571428571429\n",
      "Number of CV Scores used in Average:  5\n",
      "Error 0.6821428571428572\n",
      "For k = 10\n",
      "Cross Validation Scores:  [0.29464286 0.34821429 0.33035714 0.375      0.25892857]\n",
      "Average CV Score:  0.3214285714285714\n",
      "Number of CV Scores used in Average:  5\n",
      "Error 0.6785714285714286\n",
      "For k = 20\n",
      "Cross Validation Scores:  [0.22321429 0.33035714 0.33035714 0.32142857 0.28571429]\n",
      "Average CV Score:  0.29821428571428565\n",
      "Number of CV Scores used in Average:  5\n",
      "Error 0.7017857142857143\n"
     ]
    }
   ],
   "source": [
    "from sklearn.tree import DecisionTreeClassifier\n",
    "from sklearn.model_selection import KFold, cross_val_score\n",
    "from sklearn.neighbors import KNeighborsClassifier\n",
    "\n",
    "# k = 1\n",
    "print('For k = 1')\n",
    "knn = KNeighborsClassifier(n_neighbors=1)\n",
    "\n",
    "knn = knn.fit(data_train_scaled, labels_train)\n",
    "\n",
    "k_folds = KFold(n_splits = 5)\n",
    "\n",
    "scores = cross_val_score(knn, data_train_scaled, labels_train, cv = k_folds)\n",
    "\n",
    "print(\"Cross Validation Scores: \", scores)\n",
    "print(\"Average CV Score: \", scores.mean())\n",
    "print(\"Number of CV Scores used in Average: \", len(scores))\n",
    "print(\"Error\", 1 - scores.mean())\n",
    "\n",
    "# k = 3\n",
    "print('For k = 3')\n",
    "knn = KNeighborsClassifier(n_neighbors= 3)\n",
    "\n",
    "knn = knn.fit(data_train_scaled, labels_train)\n",
    "\n",
    "k_folds = KFold(n_splits = 5)\n",
    "\n",
    "scores = cross_val_score(knn, data_train_scaled, labels_train, cv = k_folds)\n",
    "\n",
    "print(\"Cross Validation Scores: \", scores)\n",
    "print(\"Average CV Score: \", scores.mean())\n",
    "print(\"Number of CV Scores used in Average: \", len(scores))\n",
    "print(\"Error\", 1 - scores.mean())\n",
    "\n",
    "# k = 5\n",
    "print('For k = 5')\n",
    "knn = KNeighborsClassifier(n_neighbors= 5)\n",
    "\n",
    "knn = knn.fit(data_train_scaled, labels_train)\n",
    "\n",
    "k_folds = KFold(n_splits = 5)\n",
    "\n",
    "scores = cross_val_score(knn, data_train_scaled, labels_train, cv = k_folds)\n",
    "\n",
    "print(\"Cross Validation Scores: \", scores)\n",
    "print(\"Average CV Score: \", scores.mean())\n",
    "print(\"Number of CV Scores used in Average: \", len(scores))\n",
    "print(\"Error\", 1 - scores.mean())\n",
    "\n",
    "# k = 7\n",
    "print('For k = 7')\n",
    "knn = KNeighborsClassifier(n_neighbors= 7)\n",
    "\n",
    "knn = knn.fit(data_train_scaled, labels_train)\n",
    "\n",
    "k_folds = KFold(n_splits = 5)\n",
    "\n",
    "scores = cross_val_score(knn, data_train_scaled, labels_train, cv = k_folds)\n",
    "\n",
    "print(\"Cross Validation Scores: \", scores)\n",
    "print(\"Average CV Score: \", scores.mean())\n",
    "print(\"Number of CV Scores used in Average: \", len(scores))\n",
    "print(\"Error\", 1 - scores.mean())\n",
    "\n",
    "# k = 10 \n",
    "print('For k = 10')\n",
    "knn = KNeighborsClassifier(n_neighbors= 10)\n",
    "\n",
    "knn = knn.fit(data_train_scaled, labels_train)\n",
    "\n",
    "k_folds = KFold(n_splits = 5)\n",
    "\n",
    "scores = cross_val_score(knn, data_train_scaled, labels_train, cv = k_folds)\n",
    "\n",
    "print(\"Cross Validation Scores: \", scores)\n",
    "print(\"Average CV Score: \", scores.mean())\n",
    "print(\"Number of CV Scores used in Average: \", len(scores))\n",
    "print(\"Error\", 1 - scores.mean())\n",
    "\n",
    "# k = 20 \n",
    "print('For k = 20')\n",
    "knn = KNeighborsClassifier(n_neighbors= 20)\n",
    "\n",
    "knn = knn.fit(data_train_scaled, labels_train)\n",
    "\n",
    "k_folds = KFold(n_splits = 5)\n",
    "\n",
    "scores = cross_val_score(knn, data_train_scaled, labels_train, cv = k_folds)\n",
    "\n",
    "print(\"Cross Validation Scores: \", scores)\n",
    "print(\"Average CV Score: \", scores.mean())\n",
    "print(\"Number of CV Scores used in Average: \", len(scores))\n",
    "print(\"Error\", 1 - scores.mean())"
   ]
  },
  {
   "cell_type": "markdown",
   "id": "ca2e2573",
   "metadata": {},
   "source": [
    "# Perform a stratified 5-fold cross validation"
   ]
  },
  {
   "cell_type": "code",
   "execution_count": 81,
   "id": "93975520",
   "metadata": {},
   "outputs": [
    {
     "name": "stdout",
     "output_type": "stream",
     "text": [
      "For k = 1\n",
      "Cross Validation Scores:  [0.28571429 0.375      0.25       0.32142857 0.33928571]\n",
      "Average CV Score:  0.31428571428571433\n",
      "Number of CV Scores used in Average:  5\n",
      "Error 0.6857142857142857\n",
      "For k = 3\n",
      "Cross Validation Scores:  [0.29464286 0.30357143 0.3125     0.34821429 0.30357143]\n",
      "Average CV Score:  0.3125\n",
      "Number of CV Scores used in Average:  5\n",
      "Error 0.6875\n",
      "For k = 5\n",
      "Cross Validation Scores:  [0.25       0.33928571 0.34821429 0.35714286 0.34821429]\n",
      "Average CV Score:  0.32857142857142857\n",
      "Number of CV Scores used in Average:  5\n",
      "Error 0.6714285714285715\n",
      "For k = 7\n",
      "Cross Validation Scores:  [0.29464286 0.32142857 0.36607143 0.39285714 0.32142857]\n",
      "Average CV Score:  0.3392857142857143\n",
      "Number of CV Scores used in Average:  5\n",
      "Error 0.6607142857142857\n",
      "For k = 10\n",
      "Cross Validation Scores:  [0.30357143 0.375      0.33035714 0.34821429 0.28571429]\n",
      "Average CV Score:  0.32857142857142857\n",
      "Number of CV Scores used in Average:  5\n",
      "Error 0.6714285714285715\n",
      "For k = 20\n",
      "Cross Validation Scores:  [0.21428571 0.34821429 0.32142857 0.33035714 0.33928571]\n",
      "Average CV Score:  0.31071428571428567\n",
      "Number of CV Scores used in Average:  5\n",
      "Error 0.6892857142857143\n"
     ]
    }
   ],
   "source": [
    "from sklearn.model_selection import StratifiedKFold, cross_val_score\n",
    "\n",
    "# k = 1\n",
    "print('For k = 1')\n",
    "knn = KNeighborsClassifier(n_neighbors=1)\n",
    "\n",
    "knn = knn.fit(data_train_scaled, labels_train)\n",
    "\n",
    "sk_folds = StratifiedKFold(n_splits = 5)\n",
    "\n",
    "scores = cross_val_score(knn, data_train_scaled, labels_train, cv = sk_folds)\n",
    "\n",
    "print(\"Cross Validation Scores: \", scores)\n",
    "print(\"Average CV Score: \", scores.mean())\n",
    "print(\"Number of CV Scores used in Average: \", len(scores))\n",
    "print(\"Error\", 1 - scores.mean())\n",
    "\n",
    "# k = 3\n",
    "print('For k = 3')\n",
    "knn = KNeighborsClassifier(n_neighbors= 3)\n",
    "\n",
    "knn = knn.fit(data_train_scaled, labels_train)\n",
    "\n",
    "sk_folds = StratifiedKFold(n_splits = 5)\n",
    "\n",
    "scores = cross_val_score(knn, data_train_scaled, labels_train, cv = sk_folds)\n",
    "\n",
    "print(\"Cross Validation Scores: \", scores)\n",
    "print(\"Average CV Score: \", scores.mean())\n",
    "print(\"Number of CV Scores used in Average: \", len(scores))\n",
    "print(\"Error\", 1 - scores.mean())\n",
    "\n",
    "# k = 5\n",
    "print('For k = 5')\n",
    "knn = KNeighborsClassifier(n_neighbors= 5)\n",
    "\n",
    "knn = knn.fit(data_train_scaled, labels_train)\n",
    "\n",
    "sk_folds = StratifiedKFold(n_splits = 5)\n",
    "\n",
    "scores = cross_val_score(knn, data_train_scaled, labels_train, cv = sk_folds)\n",
    "\n",
    "print(\"Cross Validation Scores: \", scores)\n",
    "print(\"Average CV Score: \", scores.mean())\n",
    "print(\"Number of CV Scores used in Average: \", len(scores))\n",
    "print(\"Error\", 1 - scores.mean())\n",
    "\n",
    "# k = 7\n",
    "print('For k = 7')\n",
    "knn = KNeighborsClassifier(n_neighbors= 7)\n",
    "\n",
    "knn = knn.fit(data_train_scaled, labels_train)\n",
    "\n",
    "sk_folds = StratifiedKFold(n_splits = 5)\n",
    "\n",
    "scores = cross_val_score(knn, data_train_scaled, labels_train, cv = sk_folds)\n",
    "\n",
    "print(\"Cross Validation Scores: \", scores)\n",
    "print(\"Average CV Score: \", scores.mean())\n",
    "print(\"Number of CV Scores used in Average: \", len(scores))\n",
    "print(\"Error\", 1 - scores.mean())\n",
    "\n",
    "# k = 10 \n",
    "print('For k = 10')\n",
    "knn = KNeighborsClassifier(n_neighbors= 10)\n",
    "\n",
    "knn = knn.fit(data_train_scaled, labels_train)\n",
    "\n",
    "sk_folds = StratifiedKFold(n_splits = 5)\n",
    "\n",
    "scores = cross_val_score(knn, data_train_scaled, labels_train, cv = sk_folds)\n",
    "\n",
    "print(\"Cross Validation Scores: \", scores)\n",
    "print(\"Average CV Score: \", scores.mean())\n",
    "print(\"Number of CV Scores used in Average: \", len(scores))\n",
    "print(\"Error\", 1 - scores.mean())\n",
    "\n",
    "# k = 20 \n",
    "print('For k = 20')\n",
    "knn = KNeighborsClassifier(n_neighbors= 20)\n",
    "\n",
    "knn = knn.fit(data_train_scaled, labels_train)\n",
    "\n",
    "sk_folds = StratifiedKFold(n_splits = 5)\n",
    "\n",
    "scores = cross_val_score(knn, data_train_scaled, labels_train, cv = sk_folds)\n",
    "\n",
    "print(\"Cross Validation Scores: \", scores)\n",
    "print(\"Average CV Score: \", scores.mean())\n",
    "print(\"Number of CV Scores used in Average: \", len(scores))\n",
    "print(\"Error\", 1 - scores.mean())"
   ]
  },
  {
   "cell_type": "markdown",
   "id": "9e0dc106",
   "metadata": {},
   "source": [
    "# Graph"
   ]
  },
  {
   "cell_type": "code",
   "execution_count": 82,
   "id": "98e12aba",
   "metadata": {
    "scrolled": true
   },
   "outputs": [
    {
     "data": {
      "image/png": "[encoded data removed]",
      "text/plain": [
       "<Figure size 432x288 with 1 Axes>"
      ]
     },
     "metadata": {
      "needs_background": "light"
     },
     "output_type": "display_data"
    }
   ],
   "source": [
    "import matplotlib.pyplot as plt\n",
    "import numpy as np \n",
    "\n",
    "# define data values\n",
    "k = np.array([1, 3, 5, 7, 10, 20])\n",
    "cross_val_scores =  np.array([0.3196428571428572, 0.3178571428571429, 0.3196428571428572, 0.3178571428571429, 0.3214285714285714, 0.29821428571428565])\n",
    "cross_val_errors = np.array([0.6803571428571429, 0.6821428571428572, 0.6803571428571429, 0.6821428571428572, 0.6785714285714286, 0.7017857142857143])\n",
    "st_cross_val_scores = np.array([0.31428571428571433, 0.3125, 0.32857142857142857, 0.3392857142857143, 0.32857142857142857, 0.31071428571428567])\n",
    "st_cross_val_errors = np.array([0.6857142857142857, 0.6875, 0.6714285714285715, 0.6607142857142857, 0.6714285714285715, 0.6892857142857143])\n",
    "\n",
    "plt.plot(k, cross_val_scores, label = \"Mean Cross Validation\")\n",
    "plt.plot(k, cross_val_errors, label = \"Mean Cross Validation Error\")\n",
    "plt.plot(k, st_cross_val_scores, label = \"Mean Stratified Cross Validation\")\n",
    "plt.plot(k, st_cross_val_errors, label = \"Mean Stratified Cross Validation Error\")\n",
    "\n",
    "plt.xlabel(\"Set k\")\n",
    "plt.ylabel(\"Validation/Error value\")\n",
    "\n",
    "# Add a title to a legend \n",
    "plt.legend(title = \"Legend\") \n",
    "plt.title(\"Mean Cross Validation and Error for a Given K\") \n",
    "plt.xticks(np.arange(0, 21, step=1))\n",
    "plt.show() \n",
    "\n",
    "\n"
   ]
  },
  {
   "cell_type": "markdown",
   "id": "aac9aef6",
   "metadata": {},
   "source": [
    "For the standard cross validation error, k = 10 has the lowest mean error. For the stratified cross validation error, k = 7 has the lowest mean error. \n",
    "\n",
    "The k nearest neighbor classifier decreases in complexity as k increases.\n",
    "\n",
    "There is underfitting when k < 3 because the error is not improving and overfitting when k > 7 because the error gets worse. "
   ]
  },
  {
   "cell_type": "markdown",
   "id": "09004a38",
   "metadata": {},
   "source": [
    "# Test Dataset Error"
   ]
  },
  {
   "cell_type": "code",
   "execution_count": 83,
   "id": "2765781a",
   "metadata": {},
   "outputs": [
    {
     "name": "stdout",
     "output_type": "stream",
     "text": [
      "For k = 7\n",
      "Cross Validation Scores:  [0.5        0.14285714 0.42857143 0.28571429 0.35714286]\n",
      "Average CV Score:  0.34285714285714286\n",
      "Number of CV Scores used in Average:  5\n",
      "Error 0.6571428571428571\n",
      "For k = 7\n",
      "Cross Validation Scores:  [0.5        0.17857143 0.35714286 0.25       0.35714286]\n",
      "Average CV Score:  0.3285714285714286\n",
      "Number of CV Scores used in Average:  5\n",
      "Error 0.6714285714285714\n"
     ]
    }
   ],
   "source": [
    "# k = 7\n",
    "print('For k = 7')\n",
    "knn = KNeighborsClassifier(n_neighbors= 7)\n",
    "\n",
    "knn = knn.fit(data_test_scaled, labels_test)\n",
    "\n",
    "k_folds = KFold(n_splits = 5)\n",
    "\n",
    "scores = cross_val_score(knn, data_test_scaled, labels_test, cv = k_folds)\n",
    "\n",
    "print(\"Cross Validation Scores: \", scores)\n",
    "print(\"Average CV Score: \", scores.mean())\n",
    "print(\"Number of CV Scores used in Average: \", len(scores))\n",
    "print(\"Error\", 1 - scores.mean())\n",
    "\n",
    "print('For k = 7')\n",
    "knn = KNeighborsClassifier(n_neighbors= 7)\n",
    "\n",
    "knn = knn.fit(data_test_scaled, labels_test)\n",
    "\n",
    "sk_folds = StratifiedKFold(n_splits = 5)\n",
    "\n",
    "scores = cross_val_score(knn, data_test_scaled, labels_test, cv = sk_folds)\n",
    "\n",
    "print(\"Cross Validation Scores: \", scores)\n",
    "print(\"Average CV Score: \", scores.mean())\n",
    "print(\"Number of CV Scores used in Average: \", len(scores))\n",
    "print(\"Error\", 1 - scores.mean())"
   ]
  },
  {
   "cell_type": "markdown",
   "id": "da52a47d",
   "metadata": {},
   "source": [
    "For the standard cross validation error, the mean error is 0.657. For the stratified cross validation error, the mean error is 0.671. "
   ]
  },
  {
   "cell_type": "markdown",
   "id": "edb597a4",
   "metadata": {},
   "source": [
    "# Neural Network"
   ]
  },
  {
   "cell_type": "code",
   "execution_count": 84,
   "id": "2a430215",
   "metadata": {},
   "outputs": [
    {
     "name": "stderr",
     "output_type": "stream",
     "text": [
      "/Users/ciarasikking/opt/anaconda3/lib/python3.8/site-packages/sklearn/neural_network/_multilayer_perceptron.py:614: ConvergenceWarning: Stochastic Optimizer: Maximum iterations (200) reached and the optimization hasn't converged yet.\n",
      "  warnings.warn(\n",
      "/Users/ciarasikking/opt/anaconda3/lib/python3.8/site-packages/sklearn/neural_network/_multilayer_perceptron.py:614: ConvergenceWarning: Stochastic Optimizer: Maximum iterations (200) reached and the optimization hasn't converged yet.\n",
      "  warnings.warn(\n",
      "/Users/ciarasikking/opt/anaconda3/lib/python3.8/site-packages/sklearn/neural_network/_multilayer_perceptron.py:614: ConvergenceWarning: Stochastic Optimizer: Maximum iterations (200) reached and the optimization hasn't converged yet.\n",
      "  warnings.warn(\n",
      "/Users/ciarasikking/opt/anaconda3/lib/python3.8/site-packages/sklearn/neural_network/_multilayer_perceptron.py:614: ConvergenceWarning: Stochastic Optimizer: Maximum iterations (200) reached and the optimization hasn't converged yet.\n",
      "  warnings.warn(\n",
      "/Users/ciarasikking/opt/anaconda3/lib/python3.8/site-packages/sklearn/neural_network/_multilayer_perceptron.py:614: ConvergenceWarning: Stochastic Optimizer: Maximum iterations (200) reached and the optimization hasn't converged yet.\n",
      "  warnings.warn(\n"
     ]
    },
    {
     "name": "stdout",
     "output_type": "stream",
     "text": [
      "Cross Validation Scores:  [0.25       0.41071429 0.28571429 0.33928571 0.36607143]\n",
      "Average CV Score:  0.33035714285714285\n",
      "Number of CV Scores used in Average:  5\n",
      "Error 0.6696428571428572\n",
      "Accuracy of MLPClassifier :  0.2857142857142857\n",
      "F1 of MLPClassifier :  [0.11111111 0.21126761 0.10169492 0.13793103]\n"
     ]
    },
    {
     "name": "stderr",
     "output_type": "stream",
     "text": [
      "/Users/ciarasikking/opt/anaconda3/lib/python3.8/site-packages/sklearn/neural_network/_multilayer_perceptron.py:614: ConvergenceWarning: Stochastic Optimizer: Maximum iterations (200) reached and the optimization hasn't converged yet.\n",
      "  warnings.warn(\n"
     ]
    },
    {
     "data": {
      "text/plain": [
       "<sklearn.metrics._plot.confusion_matrix.ConfusionMatrixDisplay at 0x7f9e56e1bd30>"
      ]
     },
     "execution_count": 84,
     "metadata": {},
     "output_type": "execute_result"
    },
    {
     "data": {
      "image/png": "[encoded data removed]",
      "text/plain": [
       "<Figure size 432x288 with 2 Axes>"
      ]
     },
     "metadata": {
      "needs_background": "light"
     },
     "output_type": "display_data"
    }
   ],
   "source": [
    "from sklearn.neural_network import MLPClassifier\n",
    "from sklearn.metrics import confusion_matrix, ConfusionMatrixDisplay\n",
    "\n",
    "def accuracy(confusion_matrix):\n",
    "   diagonal_sum = confusion_matrix.trace()\n",
    "   sum_of_all_elements = confusion_matrix.sum()\n",
    "   return diagonal_sum / sum_of_all_elements\n",
    "\n",
    "classifier = MLPClassifier(hidden_layer_sizes=(10,10,10))\n",
    "\n",
    "nn = classifier.fit(data_train_scaled, labels_train)\n",
    "\n",
    "y_pred = classifier.predict(data_test_scaled)\n",
    "\n",
    "cm = confusion_matrix(y_pred, labels_test)\n",
    "\n",
    "sk_folds = StratifiedKFold(n_splits = 5)\n",
    "\n",
    "scores = cross_val_score(nn, data_train_scaled, labels_train, cv = sk_folds)\n",
    "\n",
    "print(\"Cross Validation Scores: \", scores)\n",
    "print(\"Average CV Score: \", scores.mean())\n",
    "print(\"Number of CV Scores used in Average: \", len(scores))\n",
    "print(\"Error\", 1 - scores.mean())\n",
    "\n",
    "print(\"Accuracy of MLPClassifier :\", '', accuracy(cm))\n",
    "\n",
    "TP = np.diag(cm)\n",
    "FP = np.sum(cm, axis=0) - TP\n",
    "FN = np.sum(cm, axis=1) - TP\n",
    "precision = TP/(TP+FP)\n",
    "recall = TP/(TP+FN)\n",
    "print(\"F1 of MLPClassifier :\", '', (precision*recall)/(precision + recall)) \n",
    "\n",
    "disp = ConfusionMatrixDisplay(confusion_matrix=cm, display_labels = nn.classes_)\n",
    "disp.plot()"
   ]
  },
  {
   "cell_type": "markdown",
   "id": "a519c1fb",
   "metadata": {},
   "source": [
    "# "
   ]
  },
  {
   "cell_type": "markdown",
   "id": "6fc3316f",
   "metadata": {},
   "source": [
    "# Support Vector Machine"
   ]
  },
  {
   "cell_type": "code",
   "execution_count": 85,
   "id": "a236c518",
   "metadata": {},
   "outputs": [
    {
     "name": "stderr",
     "output_type": "stream",
     "text": [
      "/Users/ciarasikking/opt/anaconda3/lib/python3.8/site-packages/sklearn/svm/_base.py:985: ConvergenceWarning: Liblinear failed to converge, increase the number of iterations.\n",
      "  warnings.warn(\"Liblinear failed to converge, increase \"\n",
      "/Users/ciarasikking/opt/anaconda3/lib/python3.8/site-packages/sklearn/svm/_base.py:985: ConvergenceWarning: Liblinear failed to converge, increase the number of iterations.\n",
      "  warnings.warn(\"Liblinear failed to converge, increase \"\n",
      "/Users/ciarasikking/opt/anaconda3/lib/python3.8/site-packages/sklearn/svm/_base.py:985: ConvergenceWarning: Liblinear failed to converge, increase the number of iterations.\n",
      "  warnings.warn(\"Liblinear failed to converge, increase \"\n",
      "/Users/ciarasikking/opt/anaconda3/lib/python3.8/site-packages/sklearn/svm/_base.py:985: ConvergenceWarning: Liblinear failed to converge, increase the number of iterations.\n",
      "  warnings.warn(\"Liblinear failed to converge, increase \"\n"
     ]
    },
    {
     "name": "stdout",
     "output_type": "stream",
     "text": [
      "Cross Validation Scores:  [0.26785714 0.40178571 0.29464286 0.33928571 0.33928571]\n",
      "Average CV Score:  0.3285714285714286\n",
      "Number of CV Scores used in Average:  5\n",
      "Error 0.6714285714285714\n",
      "Accuracy of LinearSVC :  0.32857142857142857\n",
      "F1 of LinearSVC :  [0.14545455 0.2278481  0.08928571 0.16666667]\n"
     ]
    },
    {
     "name": "stderr",
     "output_type": "stream",
     "text": [
      "/Users/ciarasikking/opt/anaconda3/lib/python3.8/site-packages/sklearn/svm/_base.py:985: ConvergenceWarning: Liblinear failed to converge, increase the number of iterations.\n",
      "  warnings.warn(\"Liblinear failed to converge, increase \"\n",
      "/Users/ciarasikking/opt/anaconda3/lib/python3.8/site-packages/sklearn/svm/_base.py:985: ConvergenceWarning: Liblinear failed to converge, increase the number of iterations.\n",
      "  warnings.warn(\"Liblinear failed to converge, increase \"\n"
     ]
    },
    {
     "data": {
      "text/plain": [
       "<sklearn.metrics._plot.confusion_matrix.ConfusionMatrixDisplay at 0x7f9e57378be0>"
      ]
     },
     "execution_count": 85,
     "metadata": {},
     "output_type": "execute_result"
    },
    {
     "data": {
      "image/png": "[encoded data removed]",
      "text/plain": [
       "<Figure size 432x288 with 2 Axes>"
      ]
     },
     "metadata": {
      "needs_background": "light"
     },
     "output_type": "display_data"
    }
   ],
   "source": [
    "from sklearn.svm import LinearSVC\n",
    "from sklearn.pipeline import make_pipeline\n",
    "from sklearn.preprocessing import StandardScaler\n",
    "from sklearn.datasets import make_classification\n",
    "from sklearn import svm\n",
    "\n",
    "svc = svm.LinearSVC()\n",
    "svc.fit(data_train_scaled, labels_train)\n",
    "\n",
    "pred = svc.predict(data_test_scaled)\n",
    "cm = confusion_matrix(pred, labels_test)\n",
    "\n",
    "sk_folds = StratifiedKFold(n_splits = 5)\n",
    "\n",
    "scores = cross_val_score(svc, data_train_scaled, labels_train, cv = sk_folds)\n",
    "\n",
    "print(\"Cross Validation Scores: \", scores)\n",
    "print(\"Average CV Score: \", scores.mean())\n",
    "print(\"Number of CV Scores used in Average: \", len(scores))\n",
    "print(\"Error\", 1 - scores.mean())\n",
    "\n",
    "print(\"Accuracy of LinearSVC :\", '', accuracy(cm))\n",
    "\n",
    "TP = np.diag(cm)\n",
    "FP = np.sum(cm, axis=0) - TP\n",
    "FN = np.sum(cm, axis=1) - TP\n",
    "precision = TP/(TP+FP)\n",
    "recall = TP/(TP+FN)\n",
    "print(\"F1 of LinearSVC :\", '', (precision*recall)/(precision + recall)) \n",
    "\n",
    "disp = ConfusionMatrixDisplay(confusion_matrix = cm, display_labels = svc.classes_)\n",
    "disp.plot()"
   ]
  },
  {
   "cell_type": "markdown",
   "id": "5f6bcb62",
   "metadata": {},
   "source": [
    "# Random Forest Classifier"
   ]
  },
  {
   "cell_type": "code",
   "execution_count": 86,
   "id": "7981eb0a",
   "metadata": {},
   "outputs": [
    {
     "name": "stdout",
     "output_type": "stream",
     "text": [
      "Cross Validation Scores:  [0.24107143 0.33928571 0.27678571 0.29464286 0.3125    ]\n",
      "Average CV Score:  0.29285714285714287\n",
      "Number of CV Scores used in Average:  5\n",
      "Error 0.7071428571428571\n",
      "Accuracy of RandomForestClassifier :  0.42142857142857143\n",
      "F1 of RandomForestClassifier :  [0.18181818 0.23611111 0.16949153 0.23404255]\n"
     ]
    },
    {
     "data": {
      "text/plain": [
       "<sklearn.metrics._plot.confusion_matrix.ConfusionMatrixDisplay at 0x7f9e574b31f0>"
      ]
     },
     "execution_count": 86,
     "metadata": {},
     "output_type": "execute_result"
    },
    {
     "data": {
      "image/png": "[encoded data removed]",
      "text/plain": [
       "<Figure size 432x288 with 2 Axes>"
      ]
     },
     "metadata": {
      "needs_background": "light"
     },
     "output_type": "display_data"
    }
   ],
   "source": [
    "from sklearn.ensemble import RandomForestClassifier\n",
    "from sklearn.datasets import make_classification\n",
    "from sklearn import metrics \n",
    "from sklearn.metrics import f1_score\n",
    "\n",
    "rfc = RandomForestClassifier(n_estimators = 100) \n",
    "rfc.fit(data_train_scaled, labels_train)\n",
    "\n",
    "pred = rfc.predict(data_test_scaled) \n",
    "\n",
    "cm = confusion_matrix(pred, labels_test)\n",
    "\n",
    "sk_folds = StratifiedKFold(n_splits = 5)\n",
    "\n",
    "scores = cross_val_score(rfc, data_train_scaled, labels_train, cv = sk_folds)\n",
    "\n",
    "print(\"Cross Validation Scores: \", scores)\n",
    "print(\"Average CV Score: \", scores.mean())\n",
    "print(\"Number of CV Scores used in Average: \", len(scores))\n",
    "print(\"Error\", 1 - scores.mean())\n",
    "\n",
    "print(\"Accuracy of RandomForestClassifier :\", '', accuracy(cm))\n",
    "\n",
    "TP = np.diag(cm)\n",
    "FP = np.sum(cm, axis=0) - TP\n",
    "FN = np.sum(cm, axis=1) - TP\n",
    "precision = TP/(TP+FP)\n",
    "recall = TP/(TP+FN)\n",
    "print(\"F1 of RandomForestClassifier :\", '', (precision*recall)/(precision + recall)) \n",
    "\n",
    "disp = ConfusionMatrixDisplay(confusion_matrix=cm, display_labels = rfc.classes_)\n",
    "disp.plot()"
   ]
  },
  {
   "cell_type": "markdown",
   "id": "47f27344",
   "metadata": {},
   "source": [
    "# Performance Comparison"
   ]
  },
  {
   "cell_type": "markdown",
   "id": "90e127df",
   "metadata": {},
   "source": [
    "Based on the confusion matrices alone, the Neural Network model seems to be the best method because prediction for each class falls at about average whereas in other models even if one class is predicted very well, another class may have very poor prediction\n",
    "\n",
    "Based on the mean validation accuracies, the Neural Network model seems to be the best method.\n",
    "\n",
    "By computing the accuracy on the test set, the Random Forest Classifier seemed to be the best method. \n",
    "\n",
    "The F1 scores for the Random Forest Classifier are higher for each class than the other methods. So based on F1 score this seems to be the best model."
   ]
  },
  {
   "cell_type": "code",
   "execution_count": null,
   "id": "2759e603",
   "metadata": {},
   "outputs": [],
   "source": []
  }
 ],
 "metadata": {
  "kernelspec": {
   "display_name": "Python 3",
   "language": "python",
   "name": "python3"
  },
  "language_info": {
   "codemirror_mode": {
    "name": "ipython",
    "version": 3
   },
   "file_extension": ".py",
   "mimetype": "text/x-python",
   "name": "python",
   "nbconvert_exporter": "python",
   "pygments_lexer": "ipython3",
   "version": "3.8.8"
  }
 },
 "nbformat": 4,
 "nbformat_minor": 5
}
